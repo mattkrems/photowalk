{
 "metadata": {
  "name": "",
  "signature": "sha256:9176daad8a5335aef93e269a77a157239b9511db943aad723fcaea278d698ae5"
 },
 "nbformat": 3,
 "nbformat_minor": 0,
 "worksheets": [
  {
   "cells": [
    {
     "cell_type": "code",
     "collapsed": false,
     "input": [
      "import pandas as pd\n",
      "import numpy as np\n",
      "import pymysql as mdb\n",
      "import nltk\n",
      "from nltk.tokenize import RegexpTokenizer\n",
      "from stop_words import get_stop_words\n",
      "from nltk.stem.porter import PorterStemmer\n",
      "from gensim import corpora, models, similarities\n",
      "import gensim\n",
      "import matplotlib.pyplot as plt\n",
      "from bs4 import BeautifulSoup\n",
      "import enchant\n",
      "from sklearn.feature_extraction.text import TfidfVectorizer\n",
      "from sklearn.feature_extraction.text import HashingVectorizer\n",
      "from sklearn.feature_extraction.text import CountVectorizer\n",
      "from patsy import dmatrices\n",
      "from sklearn.linear_model import LogisticRegression\n",
      "from sklearn.cross_validation import train_test_split\n",
      "from sklearn import metrics\n",
      "from sklearn.cross_validation import cross_val_score\n",
      "from sklearn.ensemble import RandomForestClassifier\n",
      "from ggplot import *\n",
      "import utils\n",
      "%matplotlib inline"
     ],
     "language": "python",
     "metadata": {},
     "outputs": [],
     "prompt_number": 1
    },
    {
     "cell_type": "code",
     "collapsed": false,
     "input": [
      "config = utils.get_config('config.ini')\n",
      "host = config['db']['host']\n",
      "user = config['db']['user']\n",
      "password = config['db']['password']\n",
      "db_name = config['db']['db']\n",
      "table_name = config['db']['table']"
     ],
     "language": "python",
     "metadata": {},
     "outputs": [],
     "prompt_number": 2
    },
    {
     "cell_type": "code",
     "collapsed": false,
     "input": [
      "con = mdb.connect(host=host,user=user,password=password,db=db_name,charset='utf8mb4')\n",
      "cur = con.cursor()"
     ],
     "language": "python",
     "metadata": {},
     "outputs": [],
     "prompt_number": 3
    },
    {
     "cell_type": "code",
     "collapsed": false,
     "input": [
      "query = \"SELECT id,user_tags,auto_tags FROM photos where location ='sf' and user_tags is not null and auto_tags REGEXP 'outdoor|indoor'\""
     ],
     "language": "python",
     "metadata": {},
     "outputs": [],
     "prompt_number": 4
    },
    {
     "cell_type": "code",
     "collapsed": false,
     "input": [
      "df = pd.read_sql(query,con)"
     ],
     "language": "python",
     "metadata": {},
     "outputs": [],
     "prompt_number": 5
    },
    {
     "cell_type": "code",
     "collapsed": false,
     "input": [
      "df['outdoor']=(df.auto_tags.map(lambda x: 'outdoor' in x)).astype(int)\n",
      "df.shape"
     ],
     "language": "python",
     "metadata": {},
     "outputs": [
      {
       "metadata": {},
       "output_type": "pyout",
       "prompt_number": 6,
       "text": [
        "(33647, 4)"
       ]
      }
     ],
     "prompt_number": 6
    },
    {
     "cell_type": "code",
     "collapsed": false,
     "input": [
      "df.head()"
     ],
     "language": "python",
     "metadata": {},
     "outputs": [
      {
       "html": [
        "<div style=\"max-width:1500px;overflow:auto;\">\n",
        "<table border=\"1\" class=\"dataframe\">\n",
        "  <thead>\n",
        "    <tr style=\"text-align: right;\">\n",
        "      <th></th>\n",
        "      <th>id</th>\n",
        "      <th>user_tags</th>\n",
        "      <th>auto_tags</th>\n",
        "      <th>outdoor</th>\n",
        "    </tr>\n",
        "  </thead>\n",
        "  <tbody>\n",
        "    <tr>\n",
        "      <th>0</th>\n",
        "      <td>2779049925</td>\n",
        "      <td>america,california,city,color,nikon,pedestrian...</td>\n",
        "      <td>outdoor,road</td>\n",
        "      <td>1</td>\n",
        "    </tr>\n",
        "    <tr>\n",
        "      <th>1</th>\n",
        "      <td>2779057741</td>\n",
        "      <td>apartments,architecture,california,city,san+fr...</td>\n",
        "      <td>building,outdoor</td>\n",
        "      <td>1</td>\n",
        "    </tr>\n",
        "    <tr>\n",
        "      <th>2</th>\n",
        "      <td>2779124983</td>\n",
        "      <td>california,city,san+francisco</td>\n",
        "      <td>vehicle,car,outdoor</td>\n",
        "      <td>1</td>\n",
        "    </tr>\n",
        "    <tr>\n",
        "      <th>3</th>\n",
        "      <td>2779940368</td>\n",
        "      <td>bay,boats,california,city,dusk,san+francisco,s...</td>\n",
        "      <td>outdoor,waterfront</td>\n",
        "      <td>1</td>\n",
        "    </tr>\n",
        "    <tr>\n",
        "      <th>4</th>\n",
        "      <td>2779947164</td>\n",
        "      <td>california,city,humor,park,san+francisco,state...</td>\n",
        "      <td>outdoor</td>\n",
        "      <td>1</td>\n",
        "    </tr>\n",
        "  </tbody>\n",
        "</table>\n",
        "</div>"
       ],
       "metadata": {},
       "output_type": "pyout",
       "prompt_number": 7,
       "text": [
        "           id                                          user_tags  \\\n",
        "0  2779049925  america,california,city,color,nikon,pedestrian...   \n",
        "1  2779057741  apartments,architecture,california,city,san+fr...   \n",
        "2  2779124983                      california,city,san+francisco   \n",
        "3  2779940368  bay,boats,california,city,dusk,san+francisco,s...   \n",
        "4  2779947164  california,city,humor,park,san+francisco,state...   \n",
        "\n",
        "             auto_tags  outdoor  \n",
        "0         outdoor,road        1  \n",
        "1     building,outdoor        1  \n",
        "2  vehicle,car,outdoor        1  \n",
        "3   outdoor,waterfront        1  \n",
        "4              outdoor        1  "
       ]
      }
     ],
     "prompt_number": 7
    },
    {
     "cell_type": "code",
     "collapsed": false,
     "input": [
      "df.outdoor.sum(),df.outdoor.count()-df.outdoor.sum()"
     ],
     "language": "python",
     "metadata": {},
     "outputs": [
      {
       "metadata": {},
       "output_type": "pyout",
       "prompt_number": 8,
       "text": [
        "(23317, 10330)"
       ]
      }
     ],
     "prompt_number": 8
    },
    {
     "cell_type": "code",
     "collapsed": false,
     "input": [
      "df.outdoor.sum()/float(df.outdoor.count())"
     ],
     "language": "python",
     "metadata": {},
     "outputs": [
      {
       "metadata": {},
       "output_type": "pyout",
       "prompt_number": 9,
       "text": [
        "0.69298897375694712"
       ]
      }
     ],
     "prompt_number": 9
    },
    {
     "cell_type": "code",
     "collapsed": false,
     "input": [
      "tags = df.user_tags.map(lambda x: ' '.join(x.split(',')))"
     ],
     "language": "python",
     "metadata": {},
     "outputs": [],
     "prompt_number": 10
    },
    {
     "cell_type": "code",
     "collapsed": false,
     "input": [
      "# NLP prep\n",
      "tokenizer = RegexpTokenizer(r'\\w+')\n",
      "en_stop=get_stop_words('en')\n",
      "p_stemmer = PorterStemmer()\n",
      "d = enchant.Dict(\"en_US\")"
     ],
     "language": "python",
     "metadata": {},
     "outputs": [],
     "prompt_number": 11
    },
    {
     "cell_type": "code",
     "collapsed": false,
     "input": [
      "texts = []\n",
      "for i in tags:\n",
      "    soup = BeautifulSoup(i).get_text() #get rid of links\n",
      "    raw = soup.lower() #lowercase all letters\n",
      "    tokens = tokenizer.tokenize(raw) #make 1-gram tokens\n",
      "    tokens = [word for word in tokens if len(word)>1 and word.isdigit() == False and d.check(word) == True] #get rid of words with one letter    \n",
      "    stopped_tokens = [i for i in tokens if not i in en_stop] #get rid of common words\n",
      "    stemmed_tokens = ' '.join([p_stemmer.stem(i) for i in stopped_tokens]) #get word stems\n",
      "    texts.append(stemmed_tokens)"
     ],
     "language": "python",
     "metadata": {},
     "outputs": [],
     "prompt_number": 11
    },
    {
     "cell_type": "code",
     "collapsed": false,
     "input": [
      "df['cleaned_tags'] = texts\n",
      "df.shape"
     ],
     "language": "python",
     "metadata": {},
     "outputs": [
      {
       "metadata": {},
       "output_type": "pyout",
       "prompt_number": 12,
       "text": [
        "(33645, 5)"
       ]
      }
     ],
     "prompt_number": 12
    },
    {
     "cell_type": "code",
     "collapsed": false,
     "input": [
      "df.head()"
     ],
     "language": "python",
     "metadata": {},
     "outputs": [
      {
       "html": [
        "<div style=\"max-width:1500px;overflow:auto;\">\n",
        "<table border=\"1\" class=\"dataframe\">\n",
        "  <thead>\n",
        "    <tr style=\"text-align: right;\">\n",
        "      <th></th>\n",
        "      <th>id</th>\n",
        "      <th>user_tags</th>\n",
        "      <th>auto_tags</th>\n",
        "      <th>outdoor</th>\n",
        "      <th>cleaned_tags</th>\n",
        "    </tr>\n",
        "  </thead>\n",
        "  <tbody>\n",
        "    <tr>\n",
        "      <th>0</th>\n",
        "      <td>2779049925</td>\n",
        "      <td>america,california,city,color,nikon,pedestrian...</td>\n",
        "      <td>outdoor,road</td>\n",
        "      <td>1</td>\n",
        "      <td>citi color pedestrian street tree tree</td>\n",
        "    </tr>\n",
        "    <tr>\n",
        "      <th>1</th>\n",
        "      <td>2779057741</td>\n",
        "      <td>apartments,architecture,california,city,san+fr...</td>\n",
        "      <td>building,outdoor</td>\n",
        "      <td>1</td>\n",
        "      <td>apart architectur citi</td>\n",
        "    </tr>\n",
        "    <tr>\n",
        "      <th>2</th>\n",
        "      <td>2779124983</td>\n",
        "      <td>california,city,san+francisco</td>\n",
        "      <td>vehicle,car,outdoor</td>\n",
        "      <td>1</td>\n",
        "      <td>citi</td>\n",
        "    </tr>\n",
        "    <tr>\n",
        "      <th>3</th>\n",
        "      <td>2779940368</td>\n",
        "      <td>bay,boats,california,city,dusk,san+francisco,s...</td>\n",
        "      <td>outdoor,waterfront</td>\n",
        "      <td>1</td>\n",
        "      <td>bay boat citi dusk sunset tree tree water</td>\n",
        "    </tr>\n",
        "    <tr>\n",
        "      <th>4</th>\n",
        "      <td>2779947164</td>\n",
        "      <td>california,city,humor,park,san+francisco,state...</td>\n",
        "      <td>outdoor</td>\n",
        "      <td>1</td>\n",
        "      <td>citi humor park statehous trashcan tree tree</td>\n",
        "    </tr>\n",
        "  </tbody>\n",
        "</table>\n",
        "</div>"
       ],
       "metadata": {},
       "output_type": "pyout",
       "prompt_number": 13,
       "text": [
        "           id                                          user_tags  \\\n",
        "0  2779049925  america,california,city,color,nikon,pedestrian...   \n",
        "1  2779057741  apartments,architecture,california,city,san+fr...   \n",
        "2  2779124983                      california,city,san+francisco   \n",
        "3  2779940368  bay,boats,california,city,dusk,san+francisco,s...   \n",
        "4  2779947164  california,city,humor,park,san+francisco,state...   \n",
        "\n",
        "             auto_tags  outdoor                                  cleaned_tags  \n",
        "0         outdoor,road        1        citi color pedestrian street tree tree  \n",
        "1     building,outdoor        1                        apart architectur citi  \n",
        "2  vehicle,car,outdoor        1                                          citi  \n",
        "3   outdoor,waterfront        1     bay boat citi dusk sunset tree tree water  \n",
        "4              outdoor        1  citi humor park statehous trashcan tree tree  "
       ]
      }
     ],
     "prompt_number": 13
    },
    {
     "cell_type": "code",
     "collapsed": false,
     "input": [
      "vectorizer = CountVectorizer()\n",
      "X = vectorizer.fit_transform(texts)\n",
      "y = df.outdoor\n",
      "X_train, X_test, y_train, y_test = train_test_split(X, y, test_size=0.3, random_state=0)"
     ],
     "language": "python",
     "metadata": {},
     "outputs": [],
     "prompt_number": 14
    },
    {
     "cell_type": "code",
     "collapsed": false,
     "input": [
      "model = LogisticRegression().fit(X_train,y_train)"
     ],
     "language": "python",
     "metadata": {},
     "outputs": [],
     "prompt_number": 15
    },
    {
     "cell_type": "code",
     "collapsed": false,
     "input": [
      "#chance\n",
      "y_train.mean()"
     ],
     "language": "python",
     "metadata": {},
     "outputs": [
      {
       "metadata": {},
       "output_type": "pyout",
       "prompt_number": 16,
       "text": [
        "0.693049127425587"
       ]
      }
     ],
     "prompt_number": 16
    },
    {
     "cell_type": "code",
     "collapsed": false,
     "input": [
      "#mean accuracy on training data\n",
      "model.score(X_train,y_train)"
     ],
     "language": "python",
     "metadata": {},
     "outputs": [
      {
       "metadata": {},
       "output_type": "pyout",
       "prompt_number": 17,
       "text": [
        "0.81835166234979406"
       ]
      }
     ],
     "prompt_number": 17
    },
    {
     "cell_type": "code",
     "collapsed": false,
     "input": [
      "model_coef=pd.DataFrame(zip(vectorizer.get_feature_names(),np.transpose(model.coef_)))"
     ],
     "language": "python",
     "metadata": {},
     "outputs": [],
     "prompt_number": 18
    },
    {
     "cell_type": "code",
     "collapsed": false,
     "input": [
      "model_coef.sort_values(1,ascending=False).head(10)"
     ],
     "language": "python",
     "metadata": {},
     "outputs": [
      {
       "html": [
        "<div style=\"max-width:1500px;overflow:auto;\">\n",
        "<table border=\"1\" class=\"dataframe\">\n",
        "  <thead>\n",
        "    <tr style=\"text-align: right;\">\n",
        "      <th></th>\n",
        "      <th>0</th>\n",
        "      <th>1</th>\n",
        "    </tr>\n",
        "  </thead>\n",
        "  <tbody>\n",
        "    <tr>\n",
        "      <th>154</th>\n",
        "      <td>answer</td>\n",
        "      <td>[2.47952404726]</td>\n",
        "    </tr>\n",
        "    <tr>\n",
        "      <th>2774</th>\n",
        "      <td>place</td>\n",
        "      <td>[2.34626314354]</td>\n",
        "    </tr>\n",
        "    <tr>\n",
        "      <th>487</th>\n",
        "      <td>bridg</td>\n",
        "      <td>[2.33034965225]</td>\n",
        "    </tr>\n",
        "    <tr>\n",
        "      <th>946</th>\n",
        "      <td>cruis</td>\n",
        "      <td>[2.25805406762]</td>\n",
        "    </tr>\n",
        "    <tr>\n",
        "      <th>2875</th>\n",
        "      <td>pride</td>\n",
        "      <td>[2.2510353788]</td>\n",
        "    </tr>\n",
        "    <tr>\n",
        "      <th>821</th>\n",
        "      <td>concours</td>\n",
        "      <td>[2.18014459084]</td>\n",
        "    </tr>\n",
        "    <tr>\n",
        "      <th>3895</th>\n",
        "      <td>truck</td>\n",
        "      <td>[2.13720393687]</td>\n",
        "    </tr>\n",
        "    <tr>\n",
        "      <th>448</th>\n",
        "      <td>botan</td>\n",
        "      <td>[2.12535846965]</td>\n",
        "    </tr>\n",
        "    <tr>\n",
        "      <th>1386</th>\n",
        "      <td>field</td>\n",
        "      <td>[2.10766937876]</td>\n",
        "    </tr>\n",
        "    <tr>\n",
        "      <th>2907</th>\n",
        "      <td>protest</td>\n",
        "      <td>[2.04806809476]</td>\n",
        "    </tr>\n",
        "  </tbody>\n",
        "</table>\n",
        "</div>"
       ],
       "metadata": {},
       "output_type": "pyout",
       "prompt_number": 21,
       "text": [
        "             0                1\n",
        "154     answer  [2.47952404726]\n",
        "2774     place  [2.34626314354]\n",
        "487      bridg  [2.33034965225]\n",
        "946      cruis  [2.25805406762]\n",
        "2875     pride   [2.2510353788]\n",
        "821   concours  [2.18014459084]\n",
        "3895     truck  [2.13720393687]\n",
        "448      botan  [2.12535846965]\n",
        "1386     field  [2.10766937876]\n",
        "2907   protest  [2.04806809476]"
       ]
      }
     ],
     "prompt_number": 21
    },
    {
     "cell_type": "code",
     "collapsed": false,
     "input": [
      "model_coef.sort_values(1,ascending=True).head(10)"
     ],
     "language": "python",
     "metadata": {},
     "outputs": [
      {
       "html": [
        "<div style=\"max-width:1500px;overflow:auto;\">\n",
        "<table border=\"1\" class=\"dataframe\">\n",
        "  <thead>\n",
        "    <tr style=\"text-align: right;\">\n",
        "      <th></th>\n",
        "      <th>0</th>\n",
        "      <th>1</th>\n",
        "    </tr>\n",
        "  </thead>\n",
        "  <tbody>\n",
        "    <tr>\n",
        "      <th>1456</th>\n",
        "      <td>food</td>\n",
        "      <td>[-2.77346124426]</td>\n",
        "    </tr>\n",
        "    <tr>\n",
        "      <th>1794</th>\n",
        "      <td>home</td>\n",
        "      <td>[-2.76573916256]</td>\n",
        "    </tr>\n",
        "    <tr>\n",
        "      <th>2648</th>\n",
        "      <td>parti</td>\n",
        "      <td>[-2.63297576907]</td>\n",
        "    </tr>\n",
        "    <tr>\n",
        "      <th>776</th>\n",
        "      <td>coffe</td>\n",
        "      <td>[-2.62468913348]</td>\n",
        "    </tr>\n",
        "    <tr>\n",
        "      <th>467</th>\n",
        "      <td>brand</td>\n",
        "      <td>[-2.60044455718]</td>\n",
        "    </tr>\n",
        "    <tr>\n",
        "      <th>828</th>\n",
        "      <td>confer</td>\n",
        "      <td>[-2.5955754619]</td>\n",
        "    </tr>\n",
        "    <tr>\n",
        "      <th>1478</th>\n",
        "      <td>foundat</td>\n",
        "      <td>[-2.58183758192]</td>\n",
        "    </tr>\n",
        "    <tr>\n",
        "      <th>1469</th>\n",
        "      <td>format</td>\n",
        "      <td>[-2.55928253018]</td>\n",
        "    </tr>\n",
        "    <tr>\n",
        "      <th>4139</th>\n",
        "      <td>winter</td>\n",
        "      <td>[-2.54740693742]</td>\n",
        "    </tr>\n",
        "    <tr>\n",
        "      <th>2253</th>\n",
        "      <td>marketplac</td>\n",
        "      <td>[-2.49905470156]</td>\n",
        "    </tr>\n",
        "  </tbody>\n",
        "</table>\n",
        "</div>"
       ],
       "metadata": {},
       "output_type": "pyout",
       "prompt_number": 22,
       "text": [
        "               0                 1\n",
        "1456        food  [-2.77346124426]\n",
        "1794        home  [-2.76573916256]\n",
        "2648       parti  [-2.63297576907]\n",
        "776        coffe  [-2.62468913348]\n",
        "467        brand  [-2.60044455718]\n",
        "828       confer   [-2.5955754619]\n",
        "1478     foundat  [-2.58183758192]\n",
        "1469      format  [-2.55928253018]\n",
        "4139      winter  [-2.54740693742]\n",
        "2253  marketplac  [-2.49905470156]"
       ]
      }
     ],
     "prompt_number": 22
    },
    {
     "cell_type": "code",
     "collapsed": false,
     "input": [
      "pred_probs = model.predict_proba(X_test)[:,1]"
     ],
     "language": "python",
     "metadata": {},
     "outputs": [],
     "prompt_number": 23
    },
    {
     "cell_type": "code",
     "collapsed": false,
     "input": [
      "fpr,tpr,thresholds = metrics.roc_curve(y_test,pred_probs)"
     ],
     "language": "python",
     "metadata": {},
     "outputs": [],
     "prompt_number": 24
    },
    {
     "cell_type": "code",
     "collapsed": false,
     "input": [
      "auc = metrics.auc(fpr,tpr)"
     ],
     "language": "python",
     "metadata": {},
     "outputs": [],
     "prompt_number": 25
    },
    {
     "cell_type": "code",
     "collapsed": false,
     "input": [
      "fig=plt.figure(figsize=(7,6))\n",
      "ax1 = fig.add_subplot(111)\n",
      "ax1.plot(fpr,tpr,label='area = {0:0.2f}'\n",
      "                       ''.format(auc))\n",
      "ax1.plot([0, 1], [0, 1], 'k--')\n",
      "ax1.set_xlim([0.0, 1.0])\n",
      "ax1.set_ylim([0.0, 1.05])\n",
      "ax1.set_xlabel('False Positive Rate')\n",
      "ax1.set_ylabel('True Positive Rate')\n",
      "ax1.legend(loc=\"lower right\")\n",
      "ax1.xaxis.label.set_fontsize(16)\n",
      "ax1.yaxis.label.set_fontsize(16)\n",
      "ax1.title.set_fontsize(20)"
     ],
     "language": "python",
     "metadata": {},
     "outputs": [
      {
       "metadata": {},
       "output_type": "display_data",
       "png": "[encoded data removed]",
       "text": [
        "<matplotlib.figure.Figure at 0x7f1789e96590>"
       ]
      }
     ],
     "prompt_number": 26
    },
    {
     "cell_type": "code",
     "collapsed": false,
     "input": [
      "y_pred = model.predict(X_test)"
     ],
     "language": "python",
     "metadata": {},
     "outputs": [],
     "prompt_number": 41
    },
    {
     "cell_type": "code",
     "collapsed": false,
     "input": [
      "y_pred.mean()"
     ],
     "language": "python",
     "metadata": {},
     "outputs": [
      {
       "metadata": {},
       "output_type": "pyout",
       "prompt_number": 42,
       "text": [
        "0.84010303150386367"
       ]
      }
     ],
     "prompt_number": 42
    },
    {
     "cell_type": "code",
     "collapsed": false,
     "input": [
      "model.score(X_test,y_test)"
     ],
     "language": "python",
     "metadata": {},
     "outputs": [
      {
       "metadata": {},
       "output_type": "pyout",
       "prompt_number": 43,
       "text": [
        "0.79651277986922919"
       ]
      }
     ],
     "prompt_number": 43
    },
    {
     "cell_type": "code",
     "collapsed": false,
     "input": [
      "metrics.confusion_matrix(y_test, y_pred)"
     ],
     "language": "python",
     "metadata": {},
     "outputs": [
      {
       "metadata": {},
       "output_type": "pyout",
       "prompt_number": 44,
       "text": [
        "array([[1330, 1770],\n",
        "       [ 284, 6710]])"
       ]
      }
     ],
     "prompt_number": 44
    },
    {
     "cell_type": "code",
     "collapsed": false,
     "input": [
      "print(metrics.classification_report(y_test, y_pred))"
     ],
     "language": "python",
     "metadata": {},
     "outputs": [
      {
       "output_type": "stream",
       "stream": "stdout",
       "text": [
        "             precision    recall  f1-score   support\n",
        "\n",
        "          0       0.82      0.43      0.56      3100\n",
        "          1       0.79      0.96      0.87      6994\n",
        "\n",
        "avg / total       0.80      0.80      0.77     10094\n",
        "\n"
       ]
      }
     ],
     "prompt_number": 45
    },
    {
     "cell_type": "code",
     "collapsed": false,
     "input": [
      "print cross_val_score(model, X_train, y_train, cv=10)"
     ],
     "language": "python",
     "metadata": {},
     "outputs": [
      {
       "output_type": "stream",
       "stream": "stdout",
       "text": [
        "[ 0.8089983   0.80093379  0.8089172   0.80764331  0.79490446  0.79575372\n",
        "  0.8         0.80976645  0.7970276   0.80246389]\n"
       ]
      }
     ],
     "prompt_number": 27
    },
    {
     "cell_type": "code",
     "collapsed": false,
     "input": [
      "query = \"SELECT id,user_tags,auto_tags FROM photos where location ='sf' and auto_tags is null and user_tags is not null\""
     ],
     "language": "python",
     "metadata": {},
     "outputs": [],
     "prompt_number": 52
    },
    {
     "cell_type": "code",
     "collapsed": false,
     "input": [
      "test = pd.read_sql(query,con)"
     ],
     "language": "python",
     "metadata": {},
     "outputs": [],
     "prompt_number": 53
    },
    {
     "cell_type": "code",
     "collapsed": false,
     "input": [
      "test.shape"
     ],
     "language": "python",
     "metadata": {},
     "outputs": [
      {
       "metadata": {},
       "output_type": "pyout",
       "prompt_number": 54,
       "text": [
        "(604024, 3)"
       ]
      }
     ],
     "prompt_number": 54
    },
    {
     "cell_type": "code",
     "collapsed": false,
     "input": [
      "test_tags = test.user_tags.map(lambda x: ' '.join(x.split(',')))"
     ],
     "language": "python",
     "metadata": {},
     "outputs": [],
     "prompt_number": 55
    },
    {
     "cell_type": "code",
     "collapsed": false,
     "input": [
      "test_texts = []\n",
      "for i in test_tags:\n",
      "    soup = BeautifulSoup(i).get_text() #get rid of links\n",
      "    raw = soup.lower() #lowercase all letters\n",
      "    tokens = tokenizer.tokenize(raw) #make 1-gram tokens\n",
      "    tokens = [word for word in tokens if len(word)>1 and word.isdigit() == False and d.check(word) == True] #get rid of words with one letter    \n",
      "    stopped_tokens = [i for i in tokens if not i in en_stop] #get rid of common words\n",
      "    stemmed_tokens = ' '.join([p_stemmer.stem(i) for i in stopped_tokens]) #get word stems\n",
      "    test_texts.append(stemmed_tokens)"
     ],
     "language": "python",
     "metadata": {},
     "outputs": [],
     "prompt_number": 56
    },
    {
     "cell_type": "code",
     "collapsed": false,
     "input": [
      "test['cleaned_tags'] = test_texts\n",
      "test.shape"
     ],
     "language": "python",
     "metadata": {},
     "outputs": [
      {
       "metadata": {},
       "output_type": "pyout",
       "prompt_number": 58,
       "text": [
        "(604024, 4)"
       ]
      }
     ],
     "prompt_number": 58
    },
    {
     "cell_type": "code",
     "collapsed": false,
     "input": [
      "test.head()"
     ],
     "language": "python",
     "metadata": {},
     "outputs": [
      {
       "html": [
        "<div style=\"max-width:1500px;overflow:auto;\">\n",
        "<table border=\"1\" class=\"dataframe\">\n",
        "  <thead>\n",
        "    <tr style=\"text-align: right;\">\n",
        "      <th></th>\n",
        "      <th>id</th>\n",
        "      <th>user_tags</th>\n",
        "      <th>auto_tags</th>\n",
        "      <th>cleaned_tags</th>\n",
        "    </tr>\n",
        "  </thead>\n",
        "  <tbody>\n",
        "    <tr>\n",
        "      <th>0</th>\n",
        "      <td>60294</td>\n",
        "      <td>sanfrancisco,transit</td>\n",
        "      <td>None</td>\n",
        "      <td>transit</td>\n",
        "    </tr>\n",
        "    <tr>\n",
        "      <th>1</th>\n",
        "      <td>87825</td>\n",
        "      <td>books,johnross,moderntimes,writer</td>\n",
        "      <td>None</td>\n",
        "      <td>book writer</td>\n",
        "    </tr>\n",
        "    <tr>\n",
        "      <th>2</th>\n",
        "      <td>87827</td>\n",
        "      <td>books,johnross,moderntimes,writer</td>\n",
        "      <td>None</td>\n",
        "      <td>book writer</td>\n",
        "    </tr>\n",
        "    <tr>\n",
        "      <th>3</th>\n",
        "      <td>87828</td>\n",
        "      <td>books,johnross,moderntimes,writer</td>\n",
        "      <td>None</td>\n",
        "      <td>book writer</td>\n",
        "    </tr>\n",
        "    <tr>\n",
        "      <th>4</th>\n",
        "      <td>87829</td>\n",
        "      <td>books,johnross,moderntimes,writer</td>\n",
        "      <td>None</td>\n",
        "      <td>book writer</td>\n",
        "    </tr>\n",
        "  </tbody>\n",
        "</table>\n",
        "</div>"
       ],
       "metadata": {},
       "output_type": "pyout",
       "prompt_number": 59,
       "text": [
        "      id                          user_tags auto_tags cleaned_tags\n",
        "0  60294               sanfrancisco,transit      None      transit\n",
        "1  87825  books,johnross,moderntimes,writer      None  book writer\n",
        "2  87827  books,johnross,moderntimes,writer      None  book writer\n",
        "3  87828  books,johnross,moderntimes,writer      None  book writer\n",
        "4  87829  books,johnross,moderntimes,writer      None  book writer"
       ]
      }
     ],
     "prompt_number": 59
    },
    {
     "cell_type": "code",
     "collapsed": false,
     "input": [
      "test_vectorizer = CountVectorizer(vocabulary=vectorizer.vocabulary_)\n",
      "test_X = test_vectorizer.fit_transform(test_texts)"
     ],
     "language": "python",
     "metadata": {},
     "outputs": [],
     "prompt_number": 66
    },
    {
     "cell_type": "code",
     "collapsed": false,
     "input": [
      "pred_test = model.predict(test_X)"
     ],
     "language": "python",
     "metadata": {},
     "outputs": [],
     "prompt_number": 67
    },
    {
     "cell_type": "code",
     "collapsed": false,
     "input": [
      "pred_test_probs = model.predict_proba(test_X)[:,1]"
     ],
     "language": "python",
     "metadata": {},
     "outputs": [],
     "prompt_number": 93
    },
    {
     "cell_type": "code",
     "collapsed": false,
     "input": [
      "test.head()"
     ],
     "language": "python",
     "metadata": {},
     "outputs": [
      {
       "html": [
        "<div style=\"max-width:1500px;overflow:auto;\">\n",
        "<table border=\"1\" class=\"dataframe\">\n",
        "  <thead>\n",
        "    <tr style=\"text-align: right;\">\n",
        "      <th></th>\n",
        "      <th>id</th>\n",
        "      <th>user_tags</th>\n",
        "      <th>auto_tags</th>\n",
        "      <th>cleaned_tags</th>\n",
        "    </tr>\n",
        "  </thead>\n",
        "  <tbody>\n",
        "    <tr>\n",
        "      <th>0</th>\n",
        "      <td>60294</td>\n",
        "      <td>sanfrancisco,transit</td>\n",
        "      <td>None</td>\n",
        "      <td>transit</td>\n",
        "    </tr>\n",
        "    <tr>\n",
        "      <th>1</th>\n",
        "      <td>87825</td>\n",
        "      <td>books,johnross,moderntimes,writer</td>\n",
        "      <td>None</td>\n",
        "      <td>book writer</td>\n",
        "    </tr>\n",
        "    <tr>\n",
        "      <th>2</th>\n",
        "      <td>87827</td>\n",
        "      <td>books,johnross,moderntimes,writer</td>\n",
        "      <td>None</td>\n",
        "      <td>book writer</td>\n",
        "    </tr>\n",
        "    <tr>\n",
        "      <th>3</th>\n",
        "      <td>87828</td>\n",
        "      <td>books,johnross,moderntimes,writer</td>\n",
        "      <td>None</td>\n",
        "      <td>book writer</td>\n",
        "    </tr>\n",
        "    <tr>\n",
        "      <th>4</th>\n",
        "      <td>87829</td>\n",
        "      <td>books,johnross,moderntimes,writer</td>\n",
        "      <td>None</td>\n",
        "      <td>book writer</td>\n",
        "    </tr>\n",
        "  </tbody>\n",
        "</table>\n",
        "</div>"
       ],
       "metadata": {},
       "output_type": "pyout",
       "prompt_number": 75,
       "text": [
        "      id                          user_tags auto_tags cleaned_tags\n",
        "0  60294               sanfrancisco,transit      None      transit\n",
        "1  87825  books,johnross,moderntimes,writer      None  book writer\n",
        "2  87827  books,johnross,moderntimes,writer      None  book writer\n",
        "3  87828  books,johnross,moderntimes,writer      None  book writer\n",
        "4  87829  books,johnross,moderntimes,writer      None  book writer"
       ]
      }
     ],
     "prompt_number": 75
    },
    {
     "cell_type": "code",
     "collapsed": false,
     "input": [
      "test['predicted']=pred_test"
     ],
     "language": "python",
     "metadata": {},
     "outputs": [],
     "prompt_number": 80
    },
    {
     "cell_type": "code",
     "collapsed": false,
     "input": [
      "pred_test_probs"
     ],
     "language": "python",
     "metadata": {},
     "outputs": [
      {
       "metadata": {},
       "output_type": "pyout",
       "prompt_number": 94,
       "text": [
        "array([ 0.78270243,  0.3624622 ,  0.3624622 , ...,  0.80826845,\n",
        "        0.80826845,  0.80826845])"
       ]
      }
     ],
     "prompt_number": 94
    },
    {
     "cell_type": "code",
     "collapsed": false,
     "input": [
      "s_test=pd.Series(pred_test_probs).map(lambda x: x>0.9).astype(int)"
     ],
     "language": "python",
     "metadata": {},
     "outputs": [],
     "prompt_number": 102
    },
    {
     "cell_type": "code",
     "collapsed": false,
     "input": [
      "test['predicted']=s_test"
     ],
     "language": "python",
     "metadata": {},
     "outputs": [],
     "prompt_number": 104
    },
    {
     "cell_type": "code",
     "collapsed": false,
     "input": [
      "outdoor_photos=test[test.predicted==1]"
     ],
     "language": "python",
     "metadata": {},
     "outputs": [],
     "prompt_number": 108
    },
    {
     "cell_type": "code",
     "collapsed": false,
     "input": [
      "outdoor_photos.head(20)"
     ],
     "language": "python",
     "metadata": {},
     "outputs": [
      {
       "html": [
        "<div style=\"max-width:1500px;overflow:auto;\">\n",
        "<table border=\"1\" class=\"dataframe\">\n",
        "  <thead>\n",
        "    <tr style=\"text-align: right;\">\n",
        "      <th></th>\n",
        "      <th>id</th>\n",
        "      <th>user_tags</th>\n",
        "      <th>auto_tags</th>\n",
        "      <th>cleaned_tags</th>\n",
        "      <th>predicted</th>\n",
        "    </tr>\n",
        "  </thead>\n",
        "  <tbody>\n",
        "    <tr>\n",
        "      <th>23</th>\n",
        "      <td>117718</td>\n",
        "      <td>cars,fog,foundinsf,morning,san+francisco,stree...</td>\n",
        "      <td>None</td>\n",
        "      <td>car fog morn street summer</td>\n",
        "      <td>1</td>\n",
        "    </tr>\n",
        "    <tr>\n",
        "      <th>25</th>\n",
        "      <td>125794</td>\n",
        "      <td>analog+photography,art+signs,black+and+white,b...</td>\n",
        "      <td>None</td>\n",
        "      <td>analog photographi art sign black white film f...</td>\n",
        "      <td>1</td>\n",
        "    </tr>\n",
        "    <tr>\n",
        "      <th>26</th>\n",
        "      <td>125822</td>\n",
        "      <td>cars,dusk,rain,san+francisco,traffic,traffic+j...</td>\n",
        "      <td>None</td>\n",
        "      <td>car dusk rain traffic traffic jam</td>\n",
        "      <td>1</td>\n",
        "    </tr>\n",
        "    <tr>\n",
        "      <th>42</th>\n",
        "      <td>222477</td>\n",
        "      <td>baseball,nachos,pacbell+park</td>\n",
        "      <td>None</td>\n",
        "      <td>basebal nacho park</td>\n",
        "      <td>1</td>\n",
        "    </tr>\n",
        "    <tr>\n",
        "      <th>43</th>\n",
        "      <td>222481</td>\n",
        "      <td>baseball,pacbell+park,pizza</td>\n",
        "      <td>None</td>\n",
        "      <td>basebal park pizza</td>\n",
        "      <td>1</td>\n",
        "    </tr>\n",
        "    <tr>\n",
        "      <th>44</th>\n",
        "      <td>222488</td>\n",
        "      <td>baseball,pacbell+park</td>\n",
        "      <td>None</td>\n",
        "      <td>basebal park</td>\n",
        "      <td>1</td>\n",
        "    </tr>\n",
        "    <tr>\n",
        "      <th>45</th>\n",
        "      <td>222490</td>\n",
        "      <td>baseball,pacbell+park</td>\n",
        "      <td>None</td>\n",
        "      <td>basebal park</td>\n",
        "      <td>1</td>\n",
        "    </tr>\n",
        "    <tr>\n",
        "      <th>46</th>\n",
        "      <td>222492</td>\n",
        "      <td>baseball,pacbell+park</td>\n",
        "      <td>None</td>\n",
        "      <td>basebal park</td>\n",
        "      <td>1</td>\n",
        "    </tr>\n",
        "    <tr>\n",
        "      <th>47</th>\n",
        "      <td>222493</td>\n",
        "      <td>baseball,pacbell+park</td>\n",
        "      <td>None</td>\n",
        "      <td>basebal park</td>\n",
        "      <td>1</td>\n",
        "    </tr>\n",
        "    <tr>\n",
        "      <th>48</th>\n",
        "      <td>222495</td>\n",
        "      <td>baseball,pacbell+park</td>\n",
        "      <td>None</td>\n",
        "      <td>basebal park</td>\n",
        "      <td>1</td>\n",
        "    </tr>\n",
        "    <tr>\n",
        "      <th>49</th>\n",
        "      <td>222496</td>\n",
        "      <td>baseball,pacbell+park,sutter</td>\n",
        "      <td>None</td>\n",
        "      <td>basebal park</td>\n",
        "      <td>1</td>\n",
        "    </tr>\n",
        "    <tr>\n",
        "      <th>50</th>\n",
        "      <td>222497</td>\n",
        "      <td>baseball,pacbell+park</td>\n",
        "      <td>None</td>\n",
        "      <td>basebal park</td>\n",
        "      <td>1</td>\n",
        "    </tr>\n",
        "    <tr>\n",
        "      <th>51</th>\n",
        "      <td>222502</td>\n",
        "      <td>baseball,pacbell+park,sutter</td>\n",
        "      <td>None</td>\n",
        "      <td>basebal park</td>\n",
        "      <td>1</td>\n",
        "    </tr>\n",
        "    <tr>\n",
        "      <th>52</th>\n",
        "      <td>222510</td>\n",
        "      <td>baseball,pacbell+park</td>\n",
        "      <td>None</td>\n",
        "      <td>basebal park</td>\n",
        "      <td>1</td>\n",
        "    </tr>\n",
        "    <tr>\n",
        "      <th>53</th>\n",
        "      <td>222512</td>\n",
        "      <td>baseball,pacbell+park</td>\n",
        "      <td>None</td>\n",
        "      <td>basebal park</td>\n",
        "      <td>1</td>\n",
        "    </tr>\n",
        "    <tr>\n",
        "      <th>54</th>\n",
        "      <td>235446</td>\n",
        "      <td>clouds,dolores+park</td>\n",
        "      <td>None</td>\n",
        "      <td>cloud park</td>\n",
        "      <td>1</td>\n",
        "    </tr>\n",
        "    <tr>\n",
        "      <th>55</th>\n",
        "      <td>235457</td>\n",
        "      <td>clouds,dolores+park,legs</td>\n",
        "      <td>None</td>\n",
        "      <td>cloud park leg</td>\n",
        "      <td>1</td>\n",
        "    </tr>\n",
        "    <tr>\n",
        "      <th>56</th>\n",
        "      <td>235460</td>\n",
        "      <td>clouds,dolores+park,foot</td>\n",
        "      <td>None</td>\n",
        "      <td>cloud park foot</td>\n",
        "      <td>1</td>\n",
        "    </tr>\n",
        "    <tr>\n",
        "      <th>57</th>\n",
        "      <td>235475</td>\n",
        "      <td>clouds,dolores+park</td>\n",
        "      <td>None</td>\n",
        "      <td>cloud park</td>\n",
        "      <td>1</td>\n",
        "    </tr>\n",
        "    <tr>\n",
        "      <th>58</th>\n",
        "      <td>235501</td>\n",
        "      <td>dolores+park,lane,sutter</td>\n",
        "      <td>None</td>\n",
        "      <td>park lane</td>\n",
        "      <td>1</td>\n",
        "    </tr>\n",
        "  </tbody>\n",
        "</table>\n",
        "</div>"
       ],
       "metadata": {},
       "output_type": "pyout",
       "prompt_number": 112,
       "text": [
        "        id                                          user_tags auto_tags  \\\n",
        "23  117718  cars,fog,foundinsf,morning,san+francisco,stree...      None   \n",
        "25  125794  analog+photography,art+signs,black+and+white,b...      None   \n",
        "26  125822  cars,dusk,rain,san+francisco,traffic,traffic+j...      None   \n",
        "42  222477                       baseball,nachos,pacbell+park      None   \n",
        "43  222481                        baseball,pacbell+park,pizza      None   \n",
        "44  222488                              baseball,pacbell+park      None   \n",
        "45  222490                              baseball,pacbell+park      None   \n",
        "46  222492                              baseball,pacbell+park      None   \n",
        "47  222493                              baseball,pacbell+park      None   \n",
        "48  222495                              baseball,pacbell+park      None   \n",
        "49  222496                       baseball,pacbell+park,sutter      None   \n",
        "50  222497                              baseball,pacbell+park      None   \n",
        "51  222502                       baseball,pacbell+park,sutter      None   \n",
        "52  222510                              baseball,pacbell+park      None   \n",
        "53  222512                              baseball,pacbell+park      None   \n",
        "54  235446                                clouds,dolores+park      None   \n",
        "55  235457                           clouds,dolores+park,legs      None   \n",
        "56  235460                           clouds,dolores+park,foot      None   \n",
        "57  235475                                clouds,dolores+park      None   \n",
        "58  235501                           dolores+park,lane,sutter      None   \n",
        "\n",
        "                                         cleaned_tags  predicted  \n",
        "23                         car fog morn street summer          1  \n",
        "25  analog photographi art sign black white film f...          1  \n",
        "26                  car dusk rain traffic traffic jam          1  \n",
        "42                                 basebal nacho park          1  \n",
        "43                                 basebal park pizza          1  \n",
        "44                                       basebal park          1  \n",
        "45                                       basebal park          1  \n",
        "46                                       basebal park          1  \n",
        "47                                       basebal park          1  \n",
        "48                                       basebal park          1  \n",
        "49                                       basebal park          1  \n",
        "50                                       basebal park          1  \n",
        "51                                       basebal park          1  \n",
        "52                                       basebal park          1  \n",
        "53                                       basebal park          1  \n",
        "54                                         cloud park          1  \n",
        "55                                     cloud park leg          1  \n",
        "56                                    cloud park foot          1  \n",
        "57                                         cloud park          1  \n",
        "58                                          park lane          1  "
       ]
      }
     ],
     "prompt_number": 112
    },
    {
     "cell_type": "code",
     "collapsed": false,
     "input": [
      "for photo_id in outdoor_photos.id:\n",
      "    cur.execute('''UPDATE photos SET predicted_outdoor=1 WHERE id=%s''',(str(photo_id)))\n",
      "    con.commit()"
     ],
     "language": "python",
     "metadata": {},
     "outputs": [],
     "prompt_number": 119
    },
    {
     "cell_type": "code",
     "collapsed": false,
     "input": [
      "query = \"SELECT download_url FROM photos where location ='sf' and predicted_outdoor=1\""
     ],
     "language": "python",
     "metadata": {},
     "outputs": [],
     "prompt_number": 121
    },
    {
     "cell_type": "code",
     "collapsed": false,
     "input": [
      "df_new = pd.read_sql(query,con)"
     ],
     "language": "python",
     "metadata": {},
     "outputs": [],
     "prompt_number": 122
    },
    {
     "cell_type": "code",
     "collapsed": false,
     "input": [
      "len(df_new)"
     ],
     "language": "python",
     "metadata": {},
     "outputs": [
      {
       "metadata": {},
       "output_type": "pyout",
       "prompt_number": 124,
       "text": [
        "164008"
       ]
      }
     ],
     "prompt_number": 124
    },
    {
     "cell_type": "code",
     "collapsed": false,
     "input": [
      "df.head(1)"
     ],
     "language": "python",
     "metadata": {},
     "outputs": [
      {
       "html": [
        "<div style=\"max-width:1500px;overflow:auto;\">\n",
        "<table border=\"1\" class=\"dataframe\">\n",
        "  <thead>\n",
        "    <tr style=\"text-align: right;\">\n",
        "      <th></th>\n",
        "      <th>id</th>\n",
        "      <th>user_tags</th>\n",
        "      <th>auto_tags</th>\n",
        "      <th>outdoor</th>\n",
        "      <th>cleaned_tags</th>\n",
        "    </tr>\n",
        "  </thead>\n",
        "  <tbody>\n",
        "    <tr>\n",
        "      <th>0</th>\n",
        "      <td>4297556686</td>\n",
        "      <td>bay,blues,clouds,golden+gate+bridge,light,san+...</td>\n",
        "      <td>outdoor,seaside,landscape,coast,waterfront,veh...</td>\n",
        "      <td>1</td>\n",
        "      <td>bay blue cloud golden gate bridg light shore t...</td>\n",
        "    </tr>\n",
        "  </tbody>\n",
        "</table>\n",
        "</div>"
       ],
       "metadata": {},
       "output_type": "pyout",
       "prompt_number": 133,
       "text": [
        "           id                                          user_tags  \\\n",
        "0  4297556686  bay,blues,clouds,golden+gate+bridge,light,san+...   \n",
        "\n",
        "                                           auto_tags  outdoor  \\\n",
        "0  outdoor,seaside,landscape,coast,waterfront,veh...        1   \n",
        "\n",
        "                                        cleaned_tags  \n",
        "0  bay blue cloud golden gate bridg light shore t...  "
       ]
      }
     ],
     "prompt_number": 133
    }
   ],
   "metadata": {}
  }
 ]
}